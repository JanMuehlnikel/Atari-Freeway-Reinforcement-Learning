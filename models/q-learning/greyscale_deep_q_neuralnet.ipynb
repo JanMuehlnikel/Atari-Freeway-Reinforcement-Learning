{
 "cells": [
  {
   "cell_type": "markdown",
   "metadata": {},
   "source": [
    "# **Import Libraries**"
   ]
  },
  {
   "cell_type": "code",
   "execution_count": 1,
   "metadata": {},
   "outputs": [],
   "source": [
    "import gymnasium as gym\n",
    "import numpy as np\n",
    "import tensorflow as tf\n",
    "import time\n",
    "from collections import deque\n",
    "import matplotlib.pyplot as plt\n",
    "import numpy as np\n",
    "from IPython.display import clear_output\n",
    "\n",
    "from modules.agents import DQNAgent\n",
    "import modules.rewards as rewards\n",
    "import modules.process as process"
   ]
  },
  {
   "cell_type": "code",
   "execution_count": 2,
   "metadata": {},
   "outputs": [
    {
     "name": "stdout",
     "output_type": "stream",
     "text": [
      "GPU is available\n",
      "[PhysicalDevice(name='/physical_device:GPU:0', device_type='GPU')]\n"
     ]
    }
   ],
   "source": [
    "physical_devices = tf.config.list_physical_devices('GPU')\n",
    "\n",
    "if physical_devices:\n",
    "    print(\"GPU is available\")\n",
    "    print(physical_devices)\n",
    "else:\n",
    "    print(\"GPU is not available\")"
   ]
  },
  {
   "cell_type": "markdown",
   "metadata": {},
   "source": [
    "# **Frogger Enviroment**"
   ]
  },
  {
   "cell_type": "code",
   "execution_count": 3,
   "metadata": {},
   "outputs": [
    {
     "name": "stdout",
     "output_type": "stream",
     "text": [
      "(array([[  0,   0,   0, ...,   0,   0,   0],\n",
      "       [  0,   0,   0, ...,   0,   0,   0],\n",
      "       [  0,   0,   0, ...,   0,   0,   0],\n",
      "       ...,\n",
      "       [104, 104, 104, ..., 104, 104, 104],\n",
      "       [104, 104, 104, ..., 104, 104, 104],\n",
      "       [104, 104, 104, ..., 104, 104, 104]], dtype=uint8), 0.0, False, False, {'lives': 4, 'episode_frame_number': 4, 'frame_number': 4})\n",
      "State Frame Size: Box(0, 255, (210, 160), uint8)\n",
      "Number Of Actions: 5\n",
      "Possible Actions: \n",
      " [[1 0 0 0 0]\n",
      " [0 1 0 0 0]\n",
      " [0 0 1 0 0]\n",
      " [0 0 0 1 0]\n",
      " [0 0 0 0 1]]\n",
      "Obervation: \n",
      " [[  0   0   0 ...   0   0   0]\n",
      " [  0   0   0 ...   0   0   0]\n",
      " [  0   0   0 ...   0   0   0]\n",
      " ...\n",
      " [104 104 104 ... 104 104 104]\n",
      " [104 104 104 ... 104 104 104]\n",
      " [104 104 104 ... 104 104 104]]\n",
      "(210, 160)\n"
     ]
    }
   ],
   "source": [
    "# create env with gymnasium (use ram or rgb state)\n",
    "env = gym.make(\n",
    "    \"ALE/Frogger-v5\", # \"ALE/Frogger-ram-v5\" or \"ALE/Frogger-v5\"\n",
    "    obs_type=\"grayscale\", # ram, grescale, rgb\n",
    "    render_mode=\"rgb_array\", # rgb_array or human\n",
    "    difficulty = 0, # [0, 1]\n",
    "    mode = 0 # [0, 1, 2]\n",
    "    ) \n",
    "\n",
    "env.reset()\n",
    "print(env.step(0))\n",
    "print(f\"State Frame Size: {env.observation_space}\")\n",
    "print(f\"Number Of Actions: {env.action_space.n}\")\n",
    "\n",
    "actions_space = possible_actions = np.array(np.identity(env.action_space.n,dtype=int).tolist())\n",
    "print(f\"Possible Actions: \\n {actions_space}\")\n",
    "\n",
    "env.reset()\n",
    "observation = env.step(1)\n",
    "print(f\"Obervation: \\n {observation[0]}\")\n",
    "print(observation[0].shape)"
   ]
  },
  {
   "cell_type": "markdown",
   "metadata": {},
   "source": [
    "# **Hyperparameter**"
   ]
  },
  {
   "cell_type": "code",
   "execution_count": 4,
   "metadata": {},
   "outputs": [],
   "source": [
    "env = gym.make(\"ALE/Frogger-v5\", obs_type=\"grayscale\", render_mode=\"rgb_array\", difficulty = 0, mode = 0) \n",
    "\n",
    "# MODEL Hyperparameters\n",
    "STATE_SIZE = env.observation_space.shape[0]\n",
    "ACTIONS_SIZE = env.action_space.n\n",
    "ACTIONS = list(range(0, ACTIONS_SIZE))\n",
    "LEARNING_RATE = 0.001 # Learning Rate (alpha)\n",
    "\n",
    "# AGENT Hyperparameters (epsilon greedy strategy)\n",
    "EPSILON = 1.0\n",
    "EPSILON_MIN = 0.001 # EPSELON value where exploreation stops\n",
    "EPSILON_DECAY_RATE = 0.9995 # the higher the longer the exploreation takes (Linear Decay: EPSELON * DECAY_RATE)\n",
    "GAMMA = 0.95 # Discounting rate (lower -> agent thinks more long term)\n",
    "\n",
    "# TRAINING Hyperparameters\n",
    "RENDER_INTERVAL = 10 # Intervall when the game is rendered\n",
    "TOTAL_EPISODES = 1000000\n",
    "REPLAY_INTERVAL = 10 # Replay every x steps (retrain model) \n",
    "MINI_BATCHES_REPLAY = 32\n",
    "REPLAY_BUFFER_MEMORY = 3000\n",
    "STACKED_FRAMES_SIZE = 4\n",
    "AVERAGE_WINDOW = 10\n",
    "\n",
    "STACKED_FRAMES = deque([np.zeros((STATE_SIZE), dtype=np.int32) for i in range(STACKED_FRAMES_SIZE)], maxlen=4)"
   ]
  },
  {
   "cell_type": "markdown",
   "metadata": {},
   "source": [
    "# **Reward Graph**"
   ]
  },
  {
   "cell_type": "code",
   "execution_count": 5,
   "metadata": {},
   "outputs": [],
   "source": [
    "%matplotlib qt\n",
    "average_rewards = []\n",
    "rewards_per_episode = []\n",
    "average_distance_travelled_per_episode = []\n",
    "\n",
    "plt.ion()\n",
    "\n",
    "# Create a figure and two subplots\n",
    "fig, (ax1, ax2) = plt.subplots(2, 1, figsize=(12, 12))\n",
    "\n",
    "# REWARD PLOT\n",
    "reward_line, = ax1.plot(rewards_per_episode, label='Reward per Episode')\n",
    "average_line, = ax1.plot(average_rewards, label='Moving Average Reward')\n",
    "ax1.set_xlabel('Episode')\n",
    "ax1.set_ylabel('Reward')\n",
    "ax1.set_title('Episode Reward and Moving Average Reward over Time')\n",
    "ax1.legend()\n",
    "\n",
    "# DISTANCE PLOT\n",
    "distance_line, = ax2.plot(average_distance_travelled_per_episode, label='AVG. Distance')\n",
    "ax2.set_xlabel('Episode')\n",
    "ax2.set_ylabel('AVG. Distance Travelled')\n",
    "ax2.set_title('Average Distance Travelled Per Episode')\n",
    "ax2.legend()\n",
    "\n",
    "fig.savefig(f'plots/training.png')\n",
    "plt.show()"
   ]
  },
  {
   "cell_type": "markdown",
   "metadata": {},
   "source": [
    "# **Training**"
   ]
  },
  {
   "cell_type": "code",
   "execution_count": 6,
   "metadata": {},
   "outputs": [
    {
     "ename": "TypeError",
     "evalue": "unsupported operand type(s) for +=: 'NoneType' and 'int'",
     "output_type": "error",
     "traceback": [
      "\u001b[1;31m---------------------------------------------------------------------------\u001b[0m",
      "\u001b[1;31mTypeError\u001b[0m                                 Traceback (most recent call last)",
      "Cell \u001b[1;32mIn[6], line 60\u001b[0m\n\u001b[0;32m     57\u001b[0m current_lives \u001b[38;5;241m=\u001b[39m info[\u001b[38;5;124m\"\u001b[39m\u001b[38;5;124mlives\u001b[39m\u001b[38;5;124m\"\u001b[39m]\n\u001b[0;32m     59\u001b[0m \u001b[38;5;66;03m# update reward\u001b[39;00m\n\u001b[1;32m---> 60\u001b[0m total_reward \u001b[38;5;241m=\u001b[39m \u001b[43mrewards\u001b[49m\u001b[38;5;241;43m.\u001b[39;49m\u001b[43maction_based_reward\u001b[49m\u001b[43m(\u001b[49m\u001b[43mtotal_reward\u001b[49m\u001b[43m,\u001b[49m\u001b[43m \u001b[49m\u001b[43maction\u001b[49m\u001b[43m,\u001b[49m\u001b[43m \u001b[49m\u001b[43mdistrance_travelled\u001b[49m\u001b[43m,\u001b[49m\u001b[43m \u001b[49m\u001b[43mdistance_before\u001b[49m\u001b[43m,\u001b[49m\u001b[43m \u001b[49m\u001b[43mtotal_reward\u001b[49m\u001b[43m,\u001b[49m\u001b[43m \u001b[49m\u001b[43mloss_of_live\u001b[49m\u001b[43m,\u001b[49m\u001b[43m \u001b[49m\u001b[43mcurrent_lives\u001b[49m\u001b[43m,\u001b[49m\u001b[43m \u001b[49m\u001b[43mlives_before\u001b[49m\u001b[43m)\u001b[49m\n\u001b[0;32m     62\u001b[0m \u001b[38;5;66;03m# store action infromation in memory\u001b[39;00m\n\u001b[0;32m     63\u001b[0m agent\u001b[38;5;241m.\u001b[39mremember(stacked_array_state, action, reward, stacked_array_next_state, done)\n",
      "File \u001b[1;32mc:\\Users\\janmu\\.vscode\\Projects\\Atari-Frogger-Reinforcement-Learning\\models\\q-learning\\modules\\rewards.py:45\u001b[0m, in \u001b[0;36maction_based_reward\u001b[1;34m(initial_reward, action, distance_travelled, distance_before, total_reward, loss_of_live, current_lives, lives_before)\u001b[0m\n\u001b[0;32m     43\u001b[0m     initial_reward \u001b[38;5;241m+\u001b[39m\u001b[38;5;241m=\u001b[39m left\n\u001b[0;32m     44\u001b[0m \u001b[38;5;28;01melif\u001b[39;00m action \u001b[38;5;241m==\u001b[39m \u001b[38;5;241m4\u001b[39m:\n\u001b[1;32m---> 45\u001b[0m     initial_reward \u001b[38;5;241m+\u001b[39m\u001b[38;5;241m=\u001b[39m down\n\u001b[0;32m     47\u001b[0m \u001b[38;5;66;03m# reward for death\u001b[39;00m\n\u001b[0;32m     48\u001b[0m \u001b[38;5;28;01mif\u001b[39;00m current_lives \u001b[38;5;241m<\u001b[39m lives_before:\n",
      "\u001b[1;31mTypeError\u001b[0m: unsupported operand type(s) for +=: 'NoneType' and 'int'"
     ]
    }
   ],
   "source": [
    "%matplotlib qt\n",
    "\n",
    "agent = DQNAgent(REPLAY_BUFFER_MEMORY, MINI_BATCHES_REPLAY, EPSILON, ACTIONS_SIZE, GAMMA, EPSILON_MIN, EPSILON_DECAY_RATE)\n",
    "\n",
    "for episode in range(TOTAL_EPISODES):\n",
    "    # clear output of cell for every new episode\n",
    "    clear_output(wait=True)\n",
    "    # create env (human to render game and see actions)\n",
    "    if episode % RENDER_INTERVAL == 0 and episode != 0:\n",
    "        env = gym.make(\"ALE/Frogger-v5\", obs_type=\"grayscale\", render_mode=\"human\", difficulty = 0, mode = 0) \n",
    "    else:\n",
    "        env = gym.make(\"ALE/Frogger-v5\", obs_type=\"grayscale\", render_mode=\"rgb_array\", difficulty = 0, mode = 0) \n",
    "    state = env.reset()[0]\n",
    "    preprocessed_state = process.preprocess_frames(state)\n",
    "\n",
    "    # reset episode variables\n",
    "    done = False\n",
    "    total_reward = 0\n",
    "    step_count = 0\n",
    "    is_new_episode = True\n",
    "    distrance_travelled = 0\n",
    "    distance_before = 0\n",
    "    current_lives = 4\n",
    "    lives_before = 4\n",
    "    episode_max_travelled_distance = 0\n",
    "    episode_step_distances = []\n",
    "\n",
    "    # initilize episode stack\n",
    "    stacked_array_state, STACKED_FRAMES = process.stack_frames(STACKED_FRAMES, preprocessed_state, is_new_episode, STATE_SIZE, STACKED_FRAMES_SIZE)\n",
    "    \n",
    "    while not done:\n",
    "        # update step_count\n",
    "        step_count += 1\n",
    "\n",
    "        # Predict action\n",
    "        if is_new_episode and step_count <= 110:\n",
    "            # jsut wait for first 100 steps because of initialization \n",
    "            action = 0\n",
    "            next_state, reward, done, loss_of_live, info = env.step(0)\n",
    "            state = next_state\n",
    "        else:\n",
    "            action = agent.predict_action(stacked_array_state)\n",
    "            next_state, reward, done, loss_of_live, info = env.step(action)\n",
    "            next_state_preprocessed = process.preprocess_frames(next_state)\n",
    "            is_new_episode = False\n",
    "            \n",
    "            # Do Stacking\n",
    "            stacked_array_next_state, STACKED_FRAMES = process.stack_frames(STACKED_FRAMES, next_state_preprocessed, is_new_episode, STATE_SIZE, STACKED_FRAMES_SIZE)\n",
    "\n",
    "            # updated distance\n",
    "            if action == 1:\n",
    "                distrance_travelled += 1\n",
    "            if action == 4 and distrance_travelled > 0:\n",
    "                distrance_travelled -= 1\n",
    "\n",
    "            #update lives\n",
    "            current_lives = info[\"lives\"]\n",
    "\n",
    "            # update reward\n",
    "            total_reward = rewards.action_based_reward(total_reward, action, distrance_travelled, distance_before, current_lives, lives_before)\n",
    "\n",
    "            # store action infromation in memory\n",
    "            agent.remember(stacked_array_state, action, reward, stacked_array_next_state, done)\n",
    "\n",
    "            # set the next state to the current state\n",
    "            stacked_array_state = stacked_array_next_state\n",
    "\n",
    "            # Do Replay\n",
    "            if step_count % REPLAY_INTERVAL == 0 and not is_new_episode and len(agent.memory.buffer) > MINI_BATCHES_REPLAY:\n",
    "                agent.replay()\n",
    "\n",
    "            if distrance_travelled == 7:\n",
    "                print(\"👑\")\n",
    "\n",
    "            distance_before = distrance_travelled\n",
    "            \n",
    "            # if frog dies and loses a life\n",
    "            if current_lives < lives_before:\n",
    "                # update max travvellled distance in this episode\n",
    "                if distrance_travelled > episode_max_travelled_distance:\n",
    "                    episode_max_travelled_distance = distrance_travelled\n",
    "                episode_step_distances.append(distrance_travelled)\n",
    "\n",
    "                print(f\"Distance travelled this run: {distrance_travelled} steps forward & {current_lives} lives left!\")\n",
    "                distrance_travelled = 0  \n",
    "                lives_before = current_lives\n",
    "\n",
    "            # if game finished (won or lose)\n",
    "            if done:\n",
    "                agent.update_target_model()\n",
    "\n",
    "                rewards_per_episode.append(total_reward)\n",
    "                average_distance_travelled_per_episode.append(np.mean(episode_step_distances))\n",
    "\n",
    "                if len(rewards_per_episode) >= AVERAGE_WINDOW:\n",
    "                    moving_average = np.mean(rewards_per_episode[-AVERAGE_WINDOW:])\n",
    "                else:\n",
    "                    moving_average = np.mean(rewards_per_episode)\n",
    "                average_rewards.append(moving_average)\n",
    "\n",
    "                step_text = f\"Episode: {episode}/{TOTAL_EPISODES}, Total Reward: {total_reward}, Moving AVG. Reward: {moving_average}, Max trav. dist.: {episode_max_travelled_distance}, Epsilon: {agent.EPSILON:.2}\"\n",
    "\n",
    "                # Update REWARD PLOT\n",
    "                reward_line.set_data(range(episode + 1), rewards_per_episode[:episode + 1])\n",
    "                average_line.set_data(range(episode + 1), average_rewards[:episode + 1])\n",
    "                ax1.set_xlim(0, episode + 1)\n",
    "                ax1.set_ylim(0, max(max(rewards_per_episode[:episode + 1]), max(average_rewards[:episode + 1])) + 10)\n",
    "                ax1.set_title(step_text)\n",
    "                \n",
    "                # Update DISTANCE PLOT\n",
    "                distance_line.set_data(range(episode + 1), average_distance_travelled_per_episode[:episode + 1])\n",
    "                ax2.set_xlim(0, episode + 1)\n",
    "                ax2.set_ylim(0, max(average_distance_travelled_per_episode[:episode + 1]) + 10)\n",
    "                \n",
    "                # Redraw the figure\n",
    "                fig.canvas.draw()\n",
    "                fig.canvas.flush_events()\n",
    "                \n",
    "                # Save the figure\n",
    "                fig.savefig(f'plots/training.png')\n",
    "                \n",
    "                time.sleep(0.1)\n",
    "\n",
    "                print(step_text)\n",
    "                break\n"
   ]
  }
 ],
 "metadata": {
  "kernelspec": {
   "display_name": "FreewayEnv",
   "language": "python",
   "name": "python3"
  },
  "language_info": {
   "codemirror_mode": {
    "name": "ipython",
    "version": 3
   },
   "file_extension": ".py",
   "mimetype": "text/x-python",
   "name": "python",
   "nbconvert_exporter": "python",
   "pygments_lexer": "ipython3",
   "version": "3.10.13"
  }
 },
 "nbformat": 4,
 "nbformat_minor": 2
}
